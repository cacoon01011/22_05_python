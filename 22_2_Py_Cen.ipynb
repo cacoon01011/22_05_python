{
  "nbformat": 4,
  "nbformat_minor": 0,
  "metadata": {
    "colab": {
      "provenance": [],
      "authorship_tag": "ABX9TyPB6N2eDqJiHPjbkOhxOXTZ",
      "include_colab_link": true
    },
    "kernelspec": {
      "name": "python3",
      "display_name": "Python 3"
    },
    "language_info": {
      "name": "python"
    }
  },
  "cells": [
    {
      "cell_type": "markdown",
      "metadata": {
        "id": "view-in-github",
        "colab_type": "text"
      },
      "source": [
        "<a href=\"https://colab.research.google.com/github/cacoon01011/22_05_python/blob/main/22_2_Py_Cen.ipynb\" target=\"_parent\"><img src=\"https://colab.research.google.com/assets/colab-badge.svg\" alt=\"Open In Colab\"/></a>"
      ]
    },
    {
      "cell_type": "markdown",
      "source": [
        "19. 다음 보기의 사칙연산을 완성하시오. 한줄에 모두,여러줄로 나누어서, 보기좋게 정리"
      ],
      "metadata": {
        "id": "JebNLYHxUTvM"
      }
    },
    {
      "cell_type": "code",
      "source": [
        "print(1+2, 2 - 3, 3 * 4, 4 / 4)\n",
        "print(1 + 2)\n",
        "print(2 - 3)\n",
        "print(3 * 4)\n",
        "print(4 / 4)"
      ],
      "metadata": {
        "colab": {
          "base_uri": "https://localhost:8080/"
        },
        "id": "boyjeqxqUT4t",
        "outputId": "851f85df-a10e-4cf3-d16b-cd91fbf76635"
      },
      "execution_count": 3,
      "outputs": [
        {
          "output_type": "stream",
          "name": "stdout",
          "text": [
            "3 -1 12 1.0\n",
            "3\n",
            "-1\n",
            "12\n",
            "1.0\n"
          ]
        }
      ]
    },
    {
      "cell_type": "markdown",
      "source": [
        "20. 아래의 출력화면을 간결하고 보기좋게 코딩하시오."
      ],
      "metadata": {
        "id": "Qo7Fnx_JVG4d"
      }
    },
    {
      "cell_type": "code",
      "source": [
        "print(\"*\" * 40)\n",
        "print(\"* 제 1조 1항 대한민국은 민주공화국이다 *\")\n",
        "print(\"*\" * 40)"
      ],
      "metadata": {
        "colab": {
          "base_uri": "https://localhost:8080/"
        },
        "id": "Ihg9LYZ9VHON",
        "outputId": "77c7dd7f-5868-47c6-de95-083170b9f498"
      },
      "execution_count": 4,
      "outputs": [
        {
          "output_type": "stream",
          "name": "stdout",
          "text": [
            "****************************************\n",
            "* 제 1조 1항 대한민국은 민주공화국이다 *\n",
            "****************************************\n"
          ]
        }
      ]
    },
    {
      "cell_type": "markdown",
      "source": [
        "21. 사용자에게 성명, 나이, 주소를 입력받아서 출력하라."
      ],
      "metadata": {
        "id": "fZWimxI8WIOr"
      }
    },
    {
      "cell_type": "code",
      "source": [
        "name = input(\"이름을 입력하시오 : \")\n",
        "age = input(\"나이를 입력하시오 : \")\n",
        "addr = input(\"주소를 입력하시오 : \")\n",
        "print(name)\n",
        "print(age)\n",
        "print(addr)"
      ],
      "metadata": {
        "colab": {
          "base_uri": "https://localhost:8080/"
        },
        "id": "u9jo9phbWMtq",
        "outputId": "704e29a0-a850-4020-82c1-8a46d969bc3f"
      },
      "execution_count": 5,
      "outputs": [
        {
          "output_type": "stream",
          "name": "stdout",
          "text": [
            "이름을 입력하시오 : 한정민\n",
            "나이를 입력하시오 : 20\n",
            "주소를 입력하시오 : 군산시\n",
            "한정민\n",
            "20\n",
            "군산시\n"
          ]
        }
      ]
    },
    {
      "cell_type": "markdown",
      "source": [
        "아래의 보기와 같이 두 가지 방법을 코딩하시오."
      ],
      "metadata": {
        "id": "4XwWj43ZZsZ9"
      }
    },
    {
      "cell_type": "code",
      "source": [
        "n1 = input(\"첫 번째 정수를 입력하시오 :\")\n",
        "n2 = input(\"두 번째 정수를 입력하시오 :\")\n",
        "print(\"두 합의 값은\", n1 + n2, \"입니다.\")"
      ],
      "metadata": {
        "colab": {
          "base_uri": "https://localhost:8080/"
        },
        "id": "grgwh4wSZsi0",
        "outputId": "693a0c73-4c7d-4e96-9c62-cae4b5c0ecde"
      },
      "execution_count": 8,
      "outputs": [
        {
          "output_type": "stream",
          "name": "stdout",
          "text": [
            "첫 번째 정수를 입력하시오 :100\n",
            "두 번째 정수를 입력하시오 :100\n",
            "두 합의 값은 100100 입니다.\n"
          ]
        }
      ]
    }
  ]
}